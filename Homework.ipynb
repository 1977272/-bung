{
 "cells": [
  {
   "cell_type": "code",
   "execution_count": 11,
   "metadata": {},
   "outputs": [
    {
     "name": "stdout",
     "output_type": "stream",
     "text": [
      "Das Wetter ist hervorragend\n"
     ]
    }
   ],
   "source": [
    "# Just doing the homework\n",
    "# FUnktion zur Erstellung der Frage nach dem Wetter\n",
    "def check_weather(question):\n",
    "    if question.lower() == \"wie ist das wetter?\":\n",
    "        return \"Das Wetter ist hervorragend\"\n",
    "    else:\n",
    "        return \"Lass mich in Ruhe.\"\n",
    "\n",
    "\n",
    "# Frage\n",
    "question = input(\"Frage: \")\n",
    "answer = check_weather(question)\n",
    "print(answer)"
   ]
  },
  {
   "cell_type": "code",
   "execution_count": null,
   "metadata": {},
   "outputs": [],
   "source": []
  }
 ],
 "metadata": {
  "kernelspec": {
   "display_name": "Python 3",
   "language": "python",
   "name": "python3"
  },
  "language_info": {
   "codemirror_mode": {
    "name": "ipython",
    "version": 3
   },
   "file_extension": ".py",
   "mimetype": "text/x-python",
   "name": "python",
   "nbconvert_exporter": "python",
   "pygments_lexer": "ipython3",
   "version": "3.11.3"
  }
 },
 "nbformat": 4,
 "nbformat_minor": 2
}
